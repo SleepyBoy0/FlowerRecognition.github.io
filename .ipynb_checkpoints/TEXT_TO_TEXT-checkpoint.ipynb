{
 "cells": [
  {
   "cell_type": "code",
   "execution_count": null,
   "id": "d0ae148f",
   "metadata": {},
   "outputs": [],
   "source": [
    "import pandas as pd\n",
    "\n",
    "# Loading the flower data\n",
    "flower = pd.read_csv('D:\\\\New folder\\\\Tugas Kampus\\\\flowerpredict\\\\DatasetBunga.csv')\n",
    "flower.head(90)"
   ]
  },
  {
   "cell_type": "code",
   "execution_count": null,
   "id": "9aac9579",
   "metadata": {},
   "outputs": [],
   "source": [
    "import spacy\n",
    "\n",
    "# Create an empty model\n",
    "nlp = spacy.blank(\"en\")\n",
    "\n",
    "# Add the TextCategorizer to the empty model\n",
    "textcat = nlp.add_pipe(\"textcat\")"
   ]
  },
  {
   "cell_type": "code",
   "execution_count": null,
   "id": "73580aab",
   "metadata": {},
   "outputs": [],
   "source": [
    "# Add labels to text classifier\n",
    "textcat.add_label(\"Daisy\")\n",
    "textcat.add_label(\"Tulips\")\n",
    "textcat.add_label(\"Dandelion\")\n",
    "textcat.add_label(\"Roses\")\n",
    "textcat.add_label(\"Sunflower\")"
   ]
  },
  {
   "cell_type": "code",
   "execution_count": null,
   "id": "0dacf091",
   "metadata": {},
   "outputs": [],
   "source": [
    "train_texts = flower['Text'].values\n",
    "train_labels = [{'cats': {'Daisy': label == 'Daisy',\n",
    "                          'Tulips': label == 'Tulips',\n",
    "                          'Dandelion': label == 'Dandelion',\n",
    "                          'Roses': label == 'Roses',\n",
    "                          'Sunflower': label == 'Sunflower'}} \n",
    "                for label in flower['Label']]"
   ]
  },
  {
   "cell_type": "code",
   "execution_count": null,
   "id": "636805b9",
   "metadata": {},
   "outputs": [],
   "source": [
    "train_data = list(zip(train_texts, train_labels))\n",
    "train_data[:90]"
   ]
  },
  {
   "cell_type": "code",
   "execution_count": null,
   "id": "235b8471",
   "metadata": {},
   "outputs": [],
   "source": [
    "from spacy.util import minibatch\n",
    "from spacy.training.example import Example\n",
    "\n",
    "spacy.util.fix_random_seed(1)\n",
    "optimizer = nlp.begin_training()\n",
    "\n",
    "# Create the batch generator with batch size = 8\n",
    "batches = minibatch(train_data, size=8)\n",
    "# Iterate through minibatches\n",
    "for batch in batches:\n",
    "    # Each batch is a list of (text, label) \n",
    "    for text, labels in batch:\n",
    "        doc = nlp.make_doc(text)\n",
    "        example = Example.from_dict(doc, labels)\n",
    "        nlp.update([example], sgd=optimizer)"
   ]
  },
  {
   "cell_type": "code",
   "execution_count": null,
   "id": "29f203c1",
   "metadata": {},
   "outputs": [],
   "source": [
    "import random\n",
    "\n",
    "random.seed(1)\n",
    "spacy.util.fix_random_seed(1)\n",
    "optimizer = nlp.begin_training()\n",
    "\n",
    "losses = {}\n",
    "for epoch in range(10):\n",
    "    random.shuffle(train_data)\n",
    "    # Create the batch generator with batch size = 8\n",
    "    batches = minibatch(train_data, size=8)\n",
    "    # Iterate through minibatches\n",
    "    for batch in batches:\n",
    "        for text, labels in batch:\n",
    "            doc = nlp.make_doc(text)\n",
    "            example = Example.from_dict(doc, labels)\n",
    "            nlp.update([example], sgd=optimizer, losses=losses)\n",
    "    print(losses)"
   ]
  },
  {
   "cell_type": "code",
   "execution_count": null,
   "id": "b4e7d10b",
   "metadata": {},
   "outputs": [],
   "source": [
    "texts = [\"bunga warna merah\"]\n",
    "docs = [nlp.tokenizer(text) for text in texts]\n",
    "    \n",
    "# Use textcat to get the scores for each doc\n",
    "textcat = nlp.get_pipe('textcat')\n",
    "scores = textcat.predict(docs)\n",
    "\n",
    "print(scores)"
   ]
  },
  {
   "cell_type": "code",
   "execution_count": null,
   "id": "6ad0537b",
   "metadata": {},
   "outputs": [],
   "source": [
    "texts = [\"bunga warna kuning\"]\n",
    "docs = [nlp.tokenizer(text) for text in texts]\n",
    "    \n",
    "# Use textcat to get the scores for each doc\n",
    "textcat = nlp.get_pipe('textcat')\n",
    "scores = textcat.predict(docs)\n",
    "\n",
    " \n",
    "    \n",
    "# Add a dictionary to store descriptions for each label\n",
    "label_descriptions = {\n",
    "    \"Daisy\": \"Bellis perennis adalah spesies Eropa yang umum dari daisy, dari familia Asteraceae, sering dianggap sebagai spesies archetypal dari nama itu. Bellis perennis asli dari Eropa barat, tengah dan utara, tetapi secara luas dinaturalisasi di sebagian besar daerah yang beriklim sedang termasuk Amerika dan Australasia. Secara umum, bunga daisy telah lama dikaitkan dengan simbol ketulusan, kemurnian, kelahiran kembali, dan keceriaan.\",\n",
    "    \"Tulips\": \"Tulip (bahasa Latin: Tulipa) merupakan nama genus untuk 100 spesies tumbuhan berbunga yang termasuk ke dalam keluarga Liliaceae. Tulip berasal dari Asia Tengah, tumbuh liar di kawasan pegunungan Pamir dan pegunungan Hindu Kush dan stepa di Kazakhstan. Negeri Belanda terkenal sebagai negeri bunga tulip. Tulip juga merupakan bunga nasional Iran dan Turki..\",\n",
    "    \"Dandelion\": \"Dandelion (Taraxacum) adalah genus besar dalam keluarga Asteraceae. Nama Randa Tapak sendiri biasanya merujuk kepada sebuah tumbuhan yang memiliki 'bunga-bunga' kecil yang dapat terbang ketika tertiup angin. Asal asli dari tumbuhan ini adalah Eropa dan Asia, tetapi sudah menyebar ke segala tempat. Yang disebut sebagai 'bunga' dari tumbuhan ini dapat menjadi semacam jam hayati yang secara teratur melepaskan banyak bijinya. Biji-biji ini sesungguhnya adalah buahnya.\",\n",
    "    \"Roses\": \"Roses / rose adalah tumbuhan perdu, pohonnya berduri, bunganya berbau wangi dan berwarna indah, terdiri atas daun bunga yang bersusun:meliputi jenis, tumbuh tegak atau memanjat, batangnya berduri, bunganya beraneka warna, seperti merah, putih, merah jambu, merah tua, dan berbau harum. Mawar liar terdiri dari 100 spesies lebih, kebanyakan tumbuh di belahan bumi utara yang berudara sejuk. Spesies ini umumnya merupakan tanaman semak yang berduri atau tanaman memanjat yang tingginya bisa mencapai 2 sampai 5 meter. Walaupun jarang ditemui, tinggi tanaman mawar yang merambat di tanaman lain bisa mencapai 20 meter.\",\n",
    "    \"Sunflower\": \"Bunga matahari (Helianthus annuus L.) adalah tumbuhan semusim dari suku kenikir-kenikiran (Asteraceae) yang populer, baik sebagai tanaman hias maupun tanaman penghasil minyak. Bunga tumbuhan ini sangat khas: besar, biasanya berwarna kuning terang, dengan kepala bunga yang besar (diameter bisa mencapai 30 cm). Bunga ini sebetulnya adalah bunga majemuk, tersusun dari ratusan hingga ribuan bunga kecil pada satu bongkol. Bunga Matahari juga memiliki perilaku khas, yaitu bunganya selalu menghadap / condong ke arah matahari atau heliotropisme. Orang Prancis menyebutnya tournesol atau 'Pengelana Matahari'. Namun, sifat ini disingkirkan pada berbagai kultivar baru untuk produksi minyak karena memakan banyak energi dan mengurangi hasil.\",\n",
    "}\n",
    "\n",
    "# From the scores, find the label with the highest score/probability\n",
    "predicted_labels = scores.argmax(axis=1)\n",
    "\n",
    "# Print the predicted labels and their descriptions\n",
    "for i, label in enumerate(predicted_labels):\n",
    "    print(f\"Prediction : {textcat.labels[label]}\")\n",
    "    print(f\"Description: {label_descriptions.get(textcat.labels[label], 'Description not available')}\")"
   ]
  },
  {
   "cell_type": "code",
   "execution_count": null,
   "id": "bb2de9db",
   "metadata": {},
   "outputs": [],
   "source": [
    "from spacy.pipeline import TextCategorizer"
   ]
  },
  {
   "cell_type": "code",
   "execution_count": null,
   "id": "93fbb1e2",
   "metadata": {},
   "outputs": [],
   "source": [
    "prediction = TextCategorizer"
   ]
  },
  {
   "cell_type": "code",
   "execution_count": null,
   "id": "dd060e51",
   "metadata": {},
   "outputs": [],
   "source": [
    "import pickle"
   ]
  },
  {
   "cell_type": "code",
   "execution_count": null,
   "id": "7c0b0516",
   "metadata": {},
   "outputs": [],
   "source": [
    "pickle_out = open(\"flower.pkl\", \"wb\")\n",
    "pickle.dump(prediction, pickle_out)\n",
    "pickle_out.close()"
   ]
  }
 ],
 "metadata": {
  "kernelspec": {
   "display_name": "Python 3 (ipykernel)",
   "language": "python",
   "name": "python3"
  },
  "language_info": {
   "codemirror_mode": {
    "name": "ipython",
    "version": 3
   },
   "file_extension": ".py",
   "mimetype": "text/x-python",
   "name": "python",
   "nbconvert_exporter": "python",
   "pygments_lexer": "ipython3",
   "version": "3.9.13"
  }
 },
 "nbformat": 4,
 "nbformat_minor": 5
}
